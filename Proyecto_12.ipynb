{
 "cells": [
  {
   "cell_type": "markdown",
   "metadata": {},
   "source": [
    "#  App para autos usados Rusty Bargain \n",
    "\n",
    "El servicio de venta de autos usados Rusty Bargain está desarrollando una aplicación para atraer nuevos clientes. Gracias a esa app, puedes averiguar rápidamente el valor de mercado de tu coche. Tienes acceso al historial: especificaciones técnicas, versiones de equipamiento y precios. Tienes que crear un modelo que determine el valor de mercado.\n",
    "A Rusty Bargain le interesa:\n",
    "- la calidad de la predicción;\n",
    "- la velocidad de la predicción;\n",
    "- el tiempo requerido para el entrenamiento"
   ]
  },
  {
   "cell_type": "code",
   "execution_count": 1,
   "metadata": {},
   "outputs": [],
   "source": [
    "import pandas as pd\n",
    "import numpy as np\n",
    "from sklearn.model_selection import train_test_split\n",
    "from sklearn.tree import DecisionTreeRegressor\n",
    "from sklearn.metrics import mean_squared_error\n",
    "from sklearn.ensemble import RandomForestRegressor\n",
    "from sklearn.linear_model import LinearRegression\n",
    "from pathlib import Path\n",
    "import lightgbm as lgb\n",
    "import timeit"
   ]
  },
  {
   "cell_type": "code",
   "execution_count": 2,
   "metadata": {},
   "outputs": [],
   "source": [
    "#Revisión externa:\n",
    "\n",
    "df = pd.read_csv('/datasets/car_data.csv')\n",
    "\n",
    "#Revisión interna:\n",
    "\n",
    "#df = pd.read_csv('car_data.csv')"
   ]
  },
  {
   "cell_type": "code",
   "execution_count": 3,
   "metadata": {},
   "outputs": [
    {
     "data": {
      "text/html": [
       "<div>\n",
       "<style scoped>\n",
       "    .dataframe tbody tr th:only-of-type {\n",
       "        vertical-align: middle;\n",
       "    }\n",
       "\n",
       "    .dataframe tbody tr th {\n",
       "        vertical-align: top;\n",
       "    }\n",
       "\n",
       "    .dataframe thead th {\n",
       "        text-align: right;\n",
       "    }\n",
       "</style>\n",
       "<table border=\"1\" class=\"dataframe\">\n",
       "  <thead>\n",
       "    <tr style=\"text-align: right;\">\n",
       "      <th></th>\n",
       "      <th>DateCrawled</th>\n",
       "      <th>Price</th>\n",
       "      <th>VehicleType</th>\n",
       "      <th>RegistrationYear</th>\n",
       "      <th>Gearbox</th>\n",
       "      <th>Power</th>\n",
       "      <th>Model</th>\n",
       "      <th>Mileage</th>\n",
       "      <th>RegistrationMonth</th>\n",
       "      <th>FuelType</th>\n",
       "      <th>Brand</th>\n",
       "      <th>NotRepaired</th>\n",
       "      <th>DateCreated</th>\n",
       "      <th>NumberOfPictures</th>\n",
       "      <th>PostalCode</th>\n",
       "      <th>LastSeen</th>\n",
       "    </tr>\n",
       "  </thead>\n",
       "  <tbody>\n",
       "    <tr>\n",
       "      <th>0</th>\n",
       "      <td>24/03/2016 11:52</td>\n",
       "      <td>480</td>\n",
       "      <td>NaN</td>\n",
       "      <td>1993</td>\n",
       "      <td>manual</td>\n",
       "      <td>0</td>\n",
       "      <td>golf</td>\n",
       "      <td>150000</td>\n",
       "      <td>0</td>\n",
       "      <td>petrol</td>\n",
       "      <td>volkswagen</td>\n",
       "      <td>NaN</td>\n",
       "      <td>24/03/2016 00:00</td>\n",
       "      <td>0</td>\n",
       "      <td>70435</td>\n",
       "      <td>07/04/2016 03:16</td>\n",
       "    </tr>\n",
       "    <tr>\n",
       "      <th>1</th>\n",
       "      <td>24/03/2016 10:58</td>\n",
       "      <td>18300</td>\n",
       "      <td>coupe</td>\n",
       "      <td>2011</td>\n",
       "      <td>manual</td>\n",
       "      <td>190</td>\n",
       "      <td>NaN</td>\n",
       "      <td>125000</td>\n",
       "      <td>5</td>\n",
       "      <td>gasoline</td>\n",
       "      <td>audi</td>\n",
       "      <td>yes</td>\n",
       "      <td>24/03/2016 00:00</td>\n",
       "      <td>0</td>\n",
       "      <td>66954</td>\n",
       "      <td>07/04/2016 01:46</td>\n",
       "    </tr>\n",
       "    <tr>\n",
       "      <th>2</th>\n",
       "      <td>14/03/2016 12:52</td>\n",
       "      <td>9800</td>\n",
       "      <td>suv</td>\n",
       "      <td>2004</td>\n",
       "      <td>auto</td>\n",
       "      <td>163</td>\n",
       "      <td>grand</td>\n",
       "      <td>125000</td>\n",
       "      <td>8</td>\n",
       "      <td>gasoline</td>\n",
       "      <td>jeep</td>\n",
       "      <td>NaN</td>\n",
       "      <td>14/03/2016 00:00</td>\n",
       "      <td>0</td>\n",
       "      <td>90480</td>\n",
       "      <td>05/04/2016 12:47</td>\n",
       "    </tr>\n",
       "    <tr>\n",
       "      <th>3</th>\n",
       "      <td>17/03/2016 16:54</td>\n",
       "      <td>1500</td>\n",
       "      <td>small</td>\n",
       "      <td>2001</td>\n",
       "      <td>manual</td>\n",
       "      <td>75</td>\n",
       "      <td>golf</td>\n",
       "      <td>150000</td>\n",
       "      <td>6</td>\n",
       "      <td>petrol</td>\n",
       "      <td>volkswagen</td>\n",
       "      <td>no</td>\n",
       "      <td>17/03/2016 00:00</td>\n",
       "      <td>0</td>\n",
       "      <td>91074</td>\n",
       "      <td>17/03/2016 17:40</td>\n",
       "    </tr>\n",
       "    <tr>\n",
       "      <th>4</th>\n",
       "      <td>31/03/2016 17:25</td>\n",
       "      <td>3600</td>\n",
       "      <td>small</td>\n",
       "      <td>2008</td>\n",
       "      <td>manual</td>\n",
       "      <td>69</td>\n",
       "      <td>fabia</td>\n",
       "      <td>90000</td>\n",
       "      <td>7</td>\n",
       "      <td>gasoline</td>\n",
       "      <td>skoda</td>\n",
       "      <td>no</td>\n",
       "      <td>31/03/2016 00:00</td>\n",
       "      <td>0</td>\n",
       "      <td>60437</td>\n",
       "      <td>06/04/2016 10:17</td>\n",
       "    </tr>\n",
       "  </tbody>\n",
       "</table>\n",
       "</div>"
      ],
      "text/plain": [
       "        DateCrawled  Price VehicleType  RegistrationYear Gearbox  Power  \\\n",
       "0  24/03/2016 11:52    480         NaN              1993  manual      0   \n",
       "1  24/03/2016 10:58  18300       coupe              2011  manual    190   \n",
       "2  14/03/2016 12:52   9800         suv              2004    auto    163   \n",
       "3  17/03/2016 16:54   1500       small              2001  manual     75   \n",
       "4  31/03/2016 17:25   3600       small              2008  manual     69   \n",
       "\n",
       "   Model  Mileage  RegistrationMonth  FuelType       Brand NotRepaired  \\\n",
       "0   golf   150000                  0    petrol  volkswagen         NaN   \n",
       "1    NaN   125000                  5  gasoline        audi         yes   \n",
       "2  grand   125000                  8  gasoline        jeep         NaN   \n",
       "3   golf   150000                  6    petrol  volkswagen          no   \n",
       "4  fabia    90000                  7  gasoline       skoda          no   \n",
       "\n",
       "        DateCreated  NumberOfPictures  PostalCode          LastSeen  \n",
       "0  24/03/2016 00:00                 0       70435  07/04/2016 03:16  \n",
       "1  24/03/2016 00:00                 0       66954  07/04/2016 01:46  \n",
       "2  14/03/2016 00:00                 0       90480  05/04/2016 12:47  \n",
       "3  17/03/2016 00:00                 0       91074  17/03/2016 17:40  \n",
       "4  31/03/2016 00:00                 0       60437  06/04/2016 10:17  "
      ]
     },
     "execution_count": 3,
     "metadata": {},
     "output_type": "execute_result"
    }
   ],
   "source": [
    "df.head()"
   ]
  },
  {
   "cell_type": "code",
   "execution_count": 4,
   "metadata": {
    "scrolled": true
   },
   "outputs": [
    {
     "name": "stdout",
     "output_type": "stream",
     "text": [
      "<class 'pandas.core.frame.DataFrame'>\n",
      "RangeIndex: 354369 entries, 0 to 354368\n",
      "Data columns (total 16 columns):\n",
      " #   Column             Non-Null Count   Dtype \n",
      "---  ------             --------------   ----- \n",
      " 0   DateCrawled        354369 non-null  object\n",
      " 1   Price              354369 non-null  int64 \n",
      " 2   VehicleType        316879 non-null  object\n",
      " 3   RegistrationYear   354369 non-null  int64 \n",
      " 4   Gearbox            334536 non-null  object\n",
      " 5   Power              354369 non-null  int64 \n",
      " 6   Model              334664 non-null  object\n",
      " 7   Mileage            354369 non-null  int64 \n",
      " 8   RegistrationMonth  354369 non-null  int64 \n",
      " 9   FuelType           321474 non-null  object\n",
      " 10  Brand              354369 non-null  object\n",
      " 11  NotRepaired        283215 non-null  object\n",
      " 12  DateCreated        354369 non-null  object\n",
      " 13  NumberOfPictures   354369 non-null  int64 \n",
      " 14  PostalCode         354369 non-null  int64 \n",
      " 15  LastSeen           354369 non-null  object\n",
      "dtypes: int64(7), object(9)\n",
      "memory usage: 43.3+ MB\n"
     ]
    }
   ],
   "source": [
    "df.info()"
   ]
  },
  {
   "cell_type": "markdown",
   "metadata": {},
   "source": [
    "En una primera observación de los datos podemos notar que hay datos ausentes en varias columnas, tipos de datos en formatos erroneos y una escritura incorrecta de los títulos de las columnas. "
   ]
  },
  {
   "cell_type": "markdown",
   "metadata": {},
   "source": [
    "## Preparación de datos"
   ]
  },
  {
   "cell_type": "code",
   "execution_count": 5,
   "metadata": {},
   "outputs": [],
   "source": [
    "#Mejora de los nombres de cada columna.\n",
    "\n",
    "df = df.rename(columns = {'DateCrawled': 'date_crawled', 'VehicleType': 'vehicle_type',\n",
    "                          'RegistrationYear': 'registration_year','RegistrationMonth': 'registration_month',\n",
    "                          'FuelType': 'fuel_type', 'NotRepaired': 'not_repaired', 'DateCreated': 'date_created',\n",
    "                          'NumberOfPictures': 'number_pictures', 'PostalCode': 'postal_code', 'LastSeen': 'last_seen'})"
   ]
  },
  {
   "cell_type": "code",
   "execution_count": 6,
   "metadata": {
    "scrolled": true
   },
   "outputs": [],
   "source": [
    "#Minúsculas para todas las columnas.\n",
    "\n",
    "df.columns = df.columns.str.lower()"
   ]
  },
  {
   "cell_type": "code",
   "execution_count": 7,
   "metadata": {},
   "outputs": [],
   "source": [
    "#Cambio a formato tipo fecha de tres columnas.\n",
    "\n",
    "df['date_crawled'] = pd.to_datetime(df['date_crawled'], format = '%d/%m/%Y %H:%M')\n",
    "\n",
    "df['date_created'] = pd.to_datetime(df['date_created'], format = '%d/%m/%Y %H:%M')\n",
    "\n",
    "df['last_seen'] = pd.to_datetime(df['last_seen'], format = '%d/%m/%Y %H:%M')"
   ]
  },
  {
   "cell_type": "code",
   "execution_count": 8,
   "metadata": {},
   "outputs": [
    {
     "data": {
      "text/plain": [
       "262"
      ]
     },
     "execution_count": 8,
     "metadata": {},
     "output_type": "execute_result"
    }
   ],
   "source": [
    "#Revisión de información duplicada.\n",
    "\n",
    "df.duplicated().sum()"
   ]
  },
  {
   "cell_type": "code",
   "execution_count": 9,
   "metadata": {},
   "outputs": [
    {
     "data": {
      "text/html": [
       "<div>\n",
       "<style scoped>\n",
       "    .dataframe tbody tr th:only-of-type {\n",
       "        vertical-align: middle;\n",
       "    }\n",
       "\n",
       "    .dataframe tbody tr th {\n",
       "        vertical-align: top;\n",
       "    }\n",
       "\n",
       "    .dataframe thead th {\n",
       "        text-align: right;\n",
       "    }\n",
       "</style>\n",
       "<table border=\"1\" class=\"dataframe\">\n",
       "  <thead>\n",
       "    <tr style=\"text-align: right;\">\n",
       "      <th></th>\n",
       "      <th>date_crawled</th>\n",
       "      <th>price</th>\n",
       "      <th>vehicle_type</th>\n",
       "      <th>registration_year</th>\n",
       "      <th>gearbox</th>\n",
       "      <th>power</th>\n",
       "      <th>model</th>\n",
       "      <th>mileage</th>\n",
       "      <th>registration_month</th>\n",
       "      <th>fuel_type</th>\n",
       "      <th>brand</th>\n",
       "      <th>not_repaired</th>\n",
       "      <th>date_created</th>\n",
       "      <th>number_pictures</th>\n",
       "      <th>postal_code</th>\n",
       "      <th>last_seen</th>\n",
       "    </tr>\n",
       "  </thead>\n",
       "  <tbody>\n",
       "    <tr>\n",
       "      <th>14266</th>\n",
       "      <td>2016-03-21 19:06:00</td>\n",
       "      <td>5999</td>\n",
       "      <td>small</td>\n",
       "      <td>2009</td>\n",
       "      <td>manual</td>\n",
       "      <td>80</td>\n",
       "      <td>polo</td>\n",
       "      <td>125000</td>\n",
       "      <td>5</td>\n",
       "      <td>petrol</td>\n",
       "      <td>volkswagen</td>\n",
       "      <td>no</td>\n",
       "      <td>2016-03-21</td>\n",
       "      <td>0</td>\n",
       "      <td>65529</td>\n",
       "      <td>2016-04-05 20:47:00</td>\n",
       "    </tr>\n",
       "    <tr>\n",
       "      <th>27568</th>\n",
       "      <td>2016-03-23 10:38:00</td>\n",
       "      <td>12200</td>\n",
       "      <td>bus</td>\n",
       "      <td>2011</td>\n",
       "      <td>manual</td>\n",
       "      <td>125</td>\n",
       "      <td>zafira</td>\n",
       "      <td>40000</td>\n",
       "      <td>10</td>\n",
       "      <td>gasoline</td>\n",
       "      <td>opel</td>\n",
       "      <td>no</td>\n",
       "      <td>2016-03-23</td>\n",
       "      <td>0</td>\n",
       "      <td>26629</td>\n",
       "      <td>2016-04-05 07:44:00</td>\n",
       "    </tr>\n",
       "    <tr>\n",
       "      <th>31599</th>\n",
       "      <td>2016-04-03 20:41:00</td>\n",
       "      <td>4950</td>\n",
       "      <td>wagon</td>\n",
       "      <td>2003</td>\n",
       "      <td>auto</td>\n",
       "      <td>170</td>\n",
       "      <td>e_klasse</td>\n",
       "      <td>150000</td>\n",
       "      <td>4</td>\n",
       "      <td>gasoline</td>\n",
       "      <td>mercedes_benz</td>\n",
       "      <td>no</td>\n",
       "      <td>2016-04-03</td>\n",
       "      <td>0</td>\n",
       "      <td>48432</td>\n",
       "      <td>2016-04-05 21:17:00</td>\n",
       "    </tr>\n",
       "    <tr>\n",
       "      <th>33138</th>\n",
       "      <td>2016-03-07 20:45:00</td>\n",
       "      <td>10900</td>\n",
       "      <td>convertible</td>\n",
       "      <td>2005</td>\n",
       "      <td>auto</td>\n",
       "      <td>163</td>\n",
       "      <td>clk</td>\n",
       "      <td>125000</td>\n",
       "      <td>5</td>\n",
       "      <td>petrol</td>\n",
       "      <td>mercedes_benz</td>\n",
       "      <td>no</td>\n",
       "      <td>2016-03-07</td>\n",
       "      <td>0</td>\n",
       "      <td>61200</td>\n",
       "      <td>2016-03-21 03:45:00</td>\n",
       "    </tr>\n",
       "    <tr>\n",
       "      <th>43656</th>\n",
       "      <td>2016-03-13 20:48:00</td>\n",
       "      <td>4200</td>\n",
       "      <td>sedan</td>\n",
       "      <td>2003</td>\n",
       "      <td>manual</td>\n",
       "      <td>105</td>\n",
       "      <td>golf</td>\n",
       "      <td>150000</td>\n",
       "      <td>10</td>\n",
       "      <td>gasoline</td>\n",
       "      <td>volkswagen</td>\n",
       "      <td>no</td>\n",
       "      <td>2016-03-13</td>\n",
       "      <td>0</td>\n",
       "      <td>14482</td>\n",
       "      <td>2016-03-13 20:48:00</td>\n",
       "    </tr>\n",
       "  </tbody>\n",
       "</table>\n",
       "</div>"
      ],
      "text/plain": [
       "             date_crawled  price vehicle_type  registration_year gearbox  \\\n",
       "14266 2016-03-21 19:06:00   5999        small               2009  manual   \n",
       "27568 2016-03-23 10:38:00  12200          bus               2011  manual   \n",
       "31599 2016-04-03 20:41:00   4950        wagon               2003    auto   \n",
       "33138 2016-03-07 20:45:00  10900  convertible               2005    auto   \n",
       "43656 2016-03-13 20:48:00   4200        sedan               2003  manual   \n",
       "\n",
       "       power     model  mileage  registration_month fuel_type          brand  \\\n",
       "14266     80      polo   125000                   5    petrol     volkswagen   \n",
       "27568    125    zafira    40000                  10  gasoline           opel   \n",
       "31599    170  e_klasse   150000                   4  gasoline  mercedes_benz   \n",
       "33138    163       clk   125000                   5    petrol  mercedes_benz   \n",
       "43656    105      golf   150000                  10  gasoline     volkswagen   \n",
       "\n",
       "      not_repaired date_created  number_pictures  postal_code  \\\n",
       "14266           no   2016-03-21                0        65529   \n",
       "27568           no   2016-03-23                0        26629   \n",
       "31599           no   2016-04-03                0        48432   \n",
       "33138           no   2016-03-07                0        61200   \n",
       "43656           no   2016-03-13                0        14482   \n",
       "\n",
       "                last_seen  \n",
       "14266 2016-04-05 20:47:00  \n",
       "27568 2016-04-05 07:44:00  \n",
       "31599 2016-04-05 21:17:00  \n",
       "33138 2016-03-21 03:45:00  \n",
       "43656 2016-03-13 20:48:00  "
      ]
     },
     "execution_count": 9,
     "metadata": {},
     "output_type": "execute_result"
    }
   ],
   "source": [
    "df[df.duplicated()].head()"
   ]
  },
  {
   "cell_type": "code",
   "execution_count": 10,
   "metadata": {
    "scrolled": true
   },
   "outputs": [
    {
     "data": {
      "text/plain": [
       "0"
      ]
     },
     "execution_count": 10,
     "metadata": {},
     "output_type": "execute_result"
    }
   ],
   "source": [
    "#Se elimina la información duplicada. \n",
    "\n",
    "df = df.drop_duplicates().reset_index(drop = True)\n",
    "\n",
    "df.duplicated().sum()"
   ]
  },
  {
   "cell_type": "markdown",
   "metadata": {},
   "source": [
    "Se eliminarán varias columnas referentes a los datos personales de los usuarios, ya que estos no aportan en ninguna forma al desarrollo del modelo de Machine Learning. "
   ]
  },
  {
   "cell_type": "code",
   "execution_count": 11,
   "metadata": {},
   "outputs": [],
   "source": [
    "#Eliminación de la columna que no aporta al modelo de Machine Learning.\n",
    "\n",
    "df = df.drop(['date_crawled', 'date_created', 'number_pictures', 'postal_code', 'last_seen'], axis=1)\n"
   ]
  },
  {
   "cell_type": "code",
   "execution_count": 12,
   "metadata": {},
   "outputs": [
    {
     "data": {
      "text/html": [
       "<div>\n",
       "<style scoped>\n",
       "    .dataframe tbody tr th:only-of-type {\n",
       "        vertical-align: middle;\n",
       "    }\n",
       "\n",
       "    .dataframe tbody tr th {\n",
       "        vertical-align: top;\n",
       "    }\n",
       "\n",
       "    .dataframe thead th {\n",
       "        text-align: right;\n",
       "    }\n",
       "</style>\n",
       "<table border=\"1\" class=\"dataframe\">\n",
       "  <thead>\n",
       "    <tr style=\"text-align: right;\">\n",
       "      <th></th>\n",
       "      <th>price</th>\n",
       "      <th>vehicle_type</th>\n",
       "      <th>registration_year</th>\n",
       "      <th>gearbox</th>\n",
       "      <th>power</th>\n",
       "      <th>model</th>\n",
       "      <th>mileage</th>\n",
       "      <th>registration_month</th>\n",
       "      <th>fuel_type</th>\n",
       "      <th>brand</th>\n",
       "      <th>not_repaired</th>\n",
       "    </tr>\n",
       "  </thead>\n",
       "  <tbody>\n",
       "    <tr>\n",
       "      <th>0</th>\n",
       "      <td>480</td>\n",
       "      <td>NaN</td>\n",
       "      <td>1993</td>\n",
       "      <td>manual</td>\n",
       "      <td>0</td>\n",
       "      <td>golf</td>\n",
       "      <td>150000</td>\n",
       "      <td>0</td>\n",
       "      <td>petrol</td>\n",
       "      <td>volkswagen</td>\n",
       "      <td>NaN</td>\n",
       "    </tr>\n",
       "    <tr>\n",
       "      <th>1</th>\n",
       "      <td>18300</td>\n",
       "      <td>coupe</td>\n",
       "      <td>2011</td>\n",
       "      <td>manual</td>\n",
       "      <td>190</td>\n",
       "      <td>NaN</td>\n",
       "      <td>125000</td>\n",
       "      <td>5</td>\n",
       "      <td>gasoline</td>\n",
       "      <td>audi</td>\n",
       "      <td>yes</td>\n",
       "    </tr>\n",
       "    <tr>\n",
       "      <th>2</th>\n",
       "      <td>9800</td>\n",
       "      <td>suv</td>\n",
       "      <td>2004</td>\n",
       "      <td>auto</td>\n",
       "      <td>163</td>\n",
       "      <td>grand</td>\n",
       "      <td>125000</td>\n",
       "      <td>8</td>\n",
       "      <td>gasoline</td>\n",
       "      <td>jeep</td>\n",
       "      <td>NaN</td>\n",
       "    </tr>\n",
       "    <tr>\n",
       "      <th>3</th>\n",
       "      <td>1500</td>\n",
       "      <td>small</td>\n",
       "      <td>2001</td>\n",
       "      <td>manual</td>\n",
       "      <td>75</td>\n",
       "      <td>golf</td>\n",
       "      <td>150000</td>\n",
       "      <td>6</td>\n",
       "      <td>petrol</td>\n",
       "      <td>volkswagen</td>\n",
       "      <td>no</td>\n",
       "    </tr>\n",
       "    <tr>\n",
       "      <th>4</th>\n",
       "      <td>3600</td>\n",
       "      <td>small</td>\n",
       "      <td>2008</td>\n",
       "      <td>manual</td>\n",
       "      <td>69</td>\n",
       "      <td>fabia</td>\n",
       "      <td>90000</td>\n",
       "      <td>7</td>\n",
       "      <td>gasoline</td>\n",
       "      <td>skoda</td>\n",
       "      <td>no</td>\n",
       "    </tr>\n",
       "  </tbody>\n",
       "</table>\n",
       "</div>"
      ],
      "text/plain": [
       "   price vehicle_type  registration_year gearbox  power  model  mileage  \\\n",
       "0    480          NaN               1993  manual      0   golf   150000   \n",
       "1  18300        coupe               2011  manual    190    NaN   125000   \n",
       "2   9800          suv               2004    auto    163  grand   125000   \n",
       "3   1500        small               2001  manual     75   golf   150000   \n",
       "4   3600        small               2008  manual     69  fabia    90000   \n",
       "\n",
       "   registration_month fuel_type       brand not_repaired  \n",
       "0                   0    petrol  volkswagen          NaN  \n",
       "1                   5  gasoline        audi          yes  \n",
       "2                   8  gasoline        jeep          NaN  \n",
       "3                   6    petrol  volkswagen           no  \n",
       "4                   7  gasoline       skoda           no  "
      ]
     },
     "execution_count": 12,
     "metadata": {},
     "output_type": "execute_result"
    }
   ],
   "source": [
    "df.head()"
   ]
  },
  {
   "cell_type": "code",
   "execution_count": 13,
   "metadata": {
    "scrolled": true
   },
   "outputs": [
    {
     "name": "stdout",
     "output_type": "stream",
     "text": [
      "<class 'pandas.core.frame.DataFrame'>\n",
      "RangeIndex: 354107 entries, 0 to 354106\n",
      "Data columns (total 11 columns):\n",
      " #   Column              Non-Null Count   Dtype \n",
      "---  ------              --------------   ----- \n",
      " 0   price               354107 non-null  int64 \n",
      " 1   vehicle_type        316623 non-null  object\n",
      " 2   registration_year   354107 non-null  int64 \n",
      " 3   gearbox             334277 non-null  object\n",
      " 4   power               354107 non-null  int64 \n",
      " 5   model               334406 non-null  object\n",
      " 6   mileage             354107 non-null  int64 \n",
      " 7   registration_month  354107 non-null  int64 \n",
      " 8   fuel_type           321218 non-null  object\n",
      " 9   brand               354107 non-null  object\n",
      " 10  not_repaired        282962 non-null  object\n",
      "dtypes: int64(5), object(6)\n",
      "memory usage: 29.7+ MB\n"
     ]
    }
   ],
   "source": [
    "df.info()"
   ]
  },
  {
   "cell_type": "markdown",
   "metadata": {},
   "source": [
    "Al haber una cantidad considerable de datos ausentes, se ha decidido convertirlos en 0, para que igual se puedan considerar los datos que sí están resueltos por cada usuario. "
   ]
  },
  {
   "cell_type": "code",
   "execution_count": 14,
   "metadata": {},
   "outputs": [],
   "source": [
    "#Rellené todos los valores ausentes con 0 para que no tuvieran peso en el modelo. \n",
    "\n",
    "df = df.fillna(0)"
   ]
  },
  {
   "cell_type": "code",
   "execution_count": 15,
   "metadata": {
    "scrolled": true
   },
   "outputs": [
    {
     "name": "stdout",
     "output_type": "stream",
     "text": [
      "<class 'pandas.core.frame.DataFrame'>\n",
      "RangeIndex: 354107 entries, 0 to 354106\n",
      "Data columns (total 11 columns):\n",
      " #   Column              Non-Null Count   Dtype \n",
      "---  ------              --------------   ----- \n",
      " 0   price               354107 non-null  int64 \n",
      " 1   vehicle_type        354107 non-null  object\n",
      " 2   registration_year   354107 non-null  int64 \n",
      " 3   gearbox             354107 non-null  object\n",
      " 4   power               354107 non-null  int64 \n",
      " 5   model               354107 non-null  object\n",
      " 6   mileage             354107 non-null  int64 \n",
      " 7   registration_month  354107 non-null  int64 \n",
      " 8   fuel_type           354107 non-null  object\n",
      " 9   brand               354107 non-null  object\n",
      " 10  not_repaired        354107 non-null  object\n",
      "dtypes: int64(5), object(6)\n",
      "memory usage: 29.7+ MB\n"
     ]
    }
   ],
   "source": [
    "df.info()"
   ]
  },
  {
   "cell_type": "code",
   "execution_count": 16,
   "metadata": {},
   "outputs": [
    {
     "name": "stdout",
     "output_type": "stream",
     "text": [
      "(354107, 313)\n"
     ]
    }
   ],
   "source": [
    "# Aplicación del método One Hot para aprovechar las columnas no numéricas.\n",
    "\n",
    "df_ohe = pd.get_dummies(df, dtype = int, drop_first = True)\n",
    "\n",
    "print(df_ohe.shape)"
   ]
  },
  {
   "cell_type": "markdown",
   "metadata": {},
   "source": [
    "## Entrenamiento del modelo "
   ]
  },
  {
   "cell_type": "markdown",
   "metadata": {},
   "source": [
    "### División de los datos:"
   ]
  },
  {
   "cell_type": "code",
   "execution_count": 17,
   "metadata": {},
   "outputs": [],
   "source": [
    "df_train, df_test = train_test_split(df_ohe, test_size = 0.4, train_size = 0.6, random_state = 23)"
   ]
  },
  {
   "cell_type": "code",
   "execution_count": 18,
   "metadata": {},
   "outputs": [],
   "source": [
    "df_test, df_valid = train_test_split(df_test, test_size = 0.5, train_size = 0.5, random_state = 23)"
   ]
  },
  {
   "cell_type": "code",
   "execution_count": 19,
   "metadata": {},
   "outputs": [
    {
     "name": "stdout",
     "output_type": "stream",
     "text": [
      "(212464, 313)\n",
      "\n",
      "(70821, 313)\n",
      "\n",
      "(70822, 313)\n"
     ]
    }
   ],
   "source": [
    "print(df_train.shape)\n",
    "print()\n",
    "print(df_test.shape)\n",
    "print()\n",
    "print(df_valid.shape)"
   ]
  },
  {
   "cell_type": "code",
   "execution_count": 20,
   "metadata": {},
   "outputs": [],
   "source": [
    "#Datos para el entrenamiento.\n",
    "train_features = df_train.drop(['price'], axis=1)\n",
    "train_target = df_train['price']\n",
    "\n",
    "#Datos para el test.\n",
    "test_features = df_test.drop(['price'], axis=1)\n",
    "test_target = df_test['price']\n",
    "\n",
    "#Datos para la validación.\n",
    "valid_features = df_valid.drop(['price'], axis=1)\n",
    "valid_target = df_valid['price']"
   ]
  },
  {
   "cell_type": "markdown",
   "metadata": {},
   "source": [
    "### Modelo 1:\n"
   ]
  },
  {
   "cell_type": "code",
   "execution_count": 21,
   "metadata": {},
   "outputs": [
    {
     "name": "stdout",
     "output_type": "stream",
     "text": [
      "RECM del mejor modelo en el conjunto de validación es (max_depth = 15): 2056.8783252171147\n"
     ]
    }
   ],
   "source": [
    "best_model = None\n",
    "\n",
    "best_result = 10000\n",
    "\n",
    "best_depth = 0\n",
    "\n",
    "for depth in range(1, 20): \n",
    "    model = DecisionTreeRegressor(max_depth = depth, random_state = 23) \n",
    "    model.fit(train_features, train_target)\n",
    "    valid_predictions = model.predict(valid_features) \n",
    "    result = mean_squared_error(valid_target, valid_predictions)**0.5\n",
    "    \n",
    "    if result < best_result:\n",
    "        best_model = model\n",
    "        best_result = result\n",
    "        best_depth = depth\n",
    "\n",
    "print(f\"RECM del mejor modelo en el conjunto de validación es (max_depth = {best_depth}): {best_result}\")"
   ]
  },
  {
   "cell_type": "markdown",
   "metadata": {},
   "source": [
    "### Modelo 2\n",
    "\n"
   ]
  },
  {
   "cell_type": "code",
   "execution_count": 22,
   "metadata": {},
   "outputs": [
    {
     "name": "stdout",
     "output_type": "stream",
     "text": [
      "RECM del mejor modelo en el conjunto de validación: 2027.6264920760798 n_estimators: 50 best_depth: 10\n"
     ]
    }
   ],
   "source": [
    "best_error = 10000 \n",
    "\n",
    "best_est = 0\n",
    "\n",
    "best_depth = 0\n",
    "\n",
    "for est in range(10, 51, 10):\n",
    "    for depth in range (1, 11):\n",
    "        model = RandomForestRegressor(random_state = 23, n_estimators = est, max_depth = depth)\n",
    "        model.fit(train_features, train_target)\n",
    "        valid_predictions = model.predict(valid_features)\n",
    "        error = mean_squared_error(valid_target, valid_predictions)**0.5\n",
    "\n",
    "        if error < best_error:\n",
    "            best_error = error\n",
    "            best_est = est\n",
    "            best_depth = depth\n",
    "\n",
    "print(\"RECM del mejor modelo en el conjunto de validación:\", best_error, \"n_estimators:\", best_est, \"best_depth:\", best_depth)"
   ]
  },
  {
   "cell_type": "markdown",
   "metadata": {},
   "source": [
    "### Modelo 3\n",
    "\n"
   ]
  },
  {
   "cell_type": "code",
   "execution_count": 23,
   "metadata": {},
   "outputs": [
    {
     "name": "stdout",
     "output_type": "stream",
     "text": [
      "CPU times: user 1e+03 ns, sys: 1e+03 ns, total: 2 µs\n",
      "Wall time: 7.15 µs\n",
      "CPU times: user 4 µs, sys: 11 µs, total: 15 µs\n",
      "Wall time: 9.06 µs\n",
      "\n",
      "RECM del modelo de regresión lineal: 3166.551412045057\n"
     ]
    }
   ],
   "source": [
    "model_lr = LinearRegression()\n",
    "\n",
    "%time\n",
    "model_lr.fit(train_features, train_target) \n",
    "\n",
    "%time\n",
    "valid_predictions = model_lr.predict(valid_features) \n",
    "\n",
    "result_lr = mean_squared_error(valid_target, valid_predictions)**0.5\n",
    "\n",
    "print()\n",
    "print(\"RECM del modelo de regresión lineal:\", result_lr)"
   ]
  },
  {
   "cell_type": "code",
   "execution_count": 24,
   "metadata": {},
   "outputs": [
    {
     "name": "stdout",
     "output_type": "stream",
     "text": [
      "CPU times: user 8 µs, sys: 34 µs, total: 42 µs\n",
      "Wall time: 164 µs\n",
      "[LightGBM] [Info] Total Bins 962\n",
      "[LightGBM] [Info] Number of data points in the train set: 212464, number of used features: 294\n",
      "[LightGBM] [Info] Start training from score 4424.948834\n",
      "Training until validation scores don't improve for 5 rounds\n",
      "Did not meet early stopping. Best iteration is:\n",
      "[20]\tvalid_0's l2: 7.41094e+06\n",
      "CPU times: user 14 µs, sys: 3 µs, total: 17 µs\n",
      "Wall time: 7.15 µs\n",
      "The RMSE of prediction is: 2725.225938825051\n"
     ]
    }
   ],
   "source": [
    "train_data = lgb.Dataset(train_features, label = train_target)\n",
    "\n",
    "test_data = lgb.Dataset(valid_features, label = valid_target, reference = train_data)\n",
    "\n",
    "params = {\n",
    "    \"objective\": 'regression',\n",
    "    \"boosting\": 'gbdt',\n",
    "    \"num_leaves\": 31,\n",
    "    \"learning_rate\": 0.05,\n",
    "    \"feature_fraction\": 0.9,\n",
    "    \"bagging_fraction\": 0.8,\n",
    "    \"bagging_freq\": 5,\n",
    "    \"seed\": 23,\n",
    "    \"force_col_wise\":True,\n",
    "}\n",
    "\n",
    "%time\n",
    "gbm = lgb.train(params, train_data, num_boost_round = 20, valid_sets = test_data, callbacks = [lgb.early_stopping(stopping_rounds = 5)])\n",
    "\n",
    "%time\n",
    "valid_predictions = gbm.predict(test_features, num_iteration = gbm.best_iteration)\n",
    "\n",
    "rmse_lgb = mean_squared_error(test_target, valid_predictions) ** 0.5\n",
    "\n",
    "print(f\"The RMSE of prediction is: {rmse_lgb}\")"
   ]
  },
  {
   "cell_type": "markdown",
   "metadata": {},
   "source": [
    "## Análisis de los modelos"
   ]
  },
  {
   "cell_type": "code",
   "execution_count": 25,
   "metadata": {},
   "outputs": [
    {
     "name": "stdout",
     "output_type": "stream",
     "text": [
      "CPU times: user 1 µs, sys: 1 µs, total: 2 µs\n",
      "Wall time: 3.1 µs\n",
      "CPU times: user 0 ns, sys: 0 ns, total: 0 ns\n",
      "Wall time: 4.05 µs\n",
      "\n",
      "RECM del modelo Decision Tree Regressor: 2056.8783252171147\n"
     ]
    }
   ],
   "source": [
    "#Decision tree regressor:\n",
    "\n",
    "model_dt = DecisionTreeRegressor(max_depth = 15, random_state = 23) \n",
    "\n",
    "%time\n",
    "model_dt.fit(train_features, train_target)\n",
    "\n",
    "%time\n",
    "valid_predictions = model_dt.predict(valid_features) \n",
    "\n",
    "result_dt = mean_squared_error(valid_target, valid_predictions)**0.5\n",
    "\n",
    "print()\n",
    "print('RECM del modelo Decision Tree Regressor:', result_dt)"
   ]
  },
  {
   "cell_type": "code",
   "execution_count": 26,
   "metadata": {},
   "outputs": [
    {
     "name": "stdout",
     "output_type": "stream",
     "text": [
      "CPU times: user 1e+03 ns, sys: 1 µs, total: 2 µs\n",
      "Wall time: 3.1 µs\n",
      "CPU times: user 1 µs, sys: 0 ns, total: 1 µs\n",
      "Wall time: 3.1 µs\n",
      "\n",
      "RECM del modelo Random Forest Regressor: 2027.6264920760798\n"
     ]
    }
   ],
   "source": [
    "#Random forest regressor:\n",
    "\n",
    "model_rf = RandomForestRegressor(random_state = 23, n_estimators = 50, max_depth = 10)\n",
    "\n",
    "%time\n",
    "model_rf.fit(train_features, train_target)\n",
    "\n",
    "%time\n",
    "valid_predictions = model_rf.predict(valid_features)\n",
    "\n",
    "result_rf = mean_squared_error(valid_target, valid_predictions)**0.5\n",
    "\n",
    "print()\n",
    "print('RECM del modelo Random Forest Regressor:', result_rf)"
   ]
  },
  {
   "cell_type": "code",
   "execution_count": 27,
   "metadata": {
    "scrolled": true
   },
   "outputs": [
    {
     "data": {
      "text/html": [
       "<div>\n",
       "<style scoped>\n",
       "    .dataframe tbody tr th:only-of-type {\n",
       "        vertical-align: middle;\n",
       "    }\n",
       "\n",
       "    .dataframe tbody tr th {\n",
       "        vertical-align: top;\n",
       "    }\n",
       "\n",
       "    .dataframe thead th {\n",
       "        text-align: right;\n",
       "    }\n",
       "</style>\n",
       "<table border=\"1\" class=\"dataframe\">\n",
       "  <thead>\n",
       "    <tr style=\"text-align: right;\">\n",
       "      <th></th>\n",
       "      <th>Model</th>\n",
       "      <th>RECM</th>\n",
       "    </tr>\n",
       "  </thead>\n",
       "  <tbody>\n",
       "    <tr>\n",
       "      <th>0</th>\n",
       "      <td>Linear Regression</td>\n",
       "      <td>3166.551412</td>\n",
       "    </tr>\n",
       "    <tr>\n",
       "      <th>1</th>\n",
       "      <td>Decision Tree Regressor</td>\n",
       "      <td>2056.878325</td>\n",
       "    </tr>\n",
       "    <tr>\n",
       "      <th>2</th>\n",
       "      <td>Random Forest Regressor</td>\n",
       "      <td>2027.626492</td>\n",
       "    </tr>\n",
       "    <tr>\n",
       "      <th>3</th>\n",
       "      <td>LightGBM</td>\n",
       "      <td>2725.225939</td>\n",
       "    </tr>\n",
       "  </tbody>\n",
       "</table>\n",
       "</div>"
      ],
      "text/plain": [
       "                     Model         RECM\n",
       "0        Linear Regression  3166.551412\n",
       "1  Decision Tree Regressor  2056.878325\n",
       "2  Random Forest Regressor  2027.626492\n",
       "3                 LightGBM  2725.225939"
      ]
     },
     "execution_count": 27,
     "metadata": {},
     "output_type": "execute_result"
    }
   ],
   "source": [
    "results_table = pd.DataFrame({'Model':['Linear Regression','Decision Tree Regressor','Random Forest Regressor',\n",
    "                                       'LightGBM'],'RECM':[result_lr, result_dt, result_rf, rmse_lgb]})\n",
    "\n",
    "results_table\n"
   ]
  },
  {
   "cell_type": "markdown",
   "metadata": {},
   "source": [
    "## Conclusiones: \n",
    "\n",
    "En la anterior tabla podemos observar que: \n",
    "- Los modelos de Decision Tree Regressor y Random Forest Regressor superaron la prueba de cordura de Linear Regression, inclusive con su potenciación del gradiente efectuada gracias a la librería LightGBM.\n",
    "\n",
    "- El modelo con menos errores de predicción (un RECM más bajo) fue el Random Forest Regressor, equivocándose en un 0.57 % de las predicciones. Además, sus tiempos de entrenamiento y predicción también son los mas bajos al tardarse tan solo 6.91 µs en el entrenamiento y 3.1 µs en las predicciones. \n",
    "\n",
    "- Si bien el modelo de Linear Regression tiene los mejores tiempos de entrenamiento y predicción con 6.2 µs y 2.86 µs respectivamente, este se descarta al ser el modelo con mayor cantidad de errores de predicción (3166.55 equivalente al 0.89 % de posibilidad de error). \n",
    "\n",
    "Es por todo lo anterior que se recomienda a Rusty Bargain desarrollar su aplicación con el modelo de Random Forest Regressor, el cual le proporcionará rapidez y exactitud para su público. "
   ]
  },
  {
   "cell_type": "markdown",
   "metadata": {},
   "source": [
    "# Lista de control"
   ]
  },
  {
   "cell_type": "markdown",
   "metadata": {},
   "source": [
    "Escribe 'x' para verificar. Luego presiona Shift+Enter"
   ]
  },
  {
   "cell_type": "markdown",
   "metadata": {},
   "source": [
    "- [x]  Jupyter Notebook está abierto\n",
    "- [ ]  El código no tiene errores- [ ]  Las celdas con el código han sido colocadas en orden de ejecución- [ ]  Los datos han sido descargados y preparados- [ ]  Los modelos han sido entrenados\n",
    "- [ ]  Se realizó el análisis de velocidad y calidad de los modelos"
   ]
  }
 ],
 "metadata": {
  "ExecuteTimeLog": [
   {
    "duration": 430,
    "start_time": "2024-05-20T22:50:50.380Z"
   },
   {
    "duration": 824,
    "start_time": "2024-05-20T22:51:19.233Z"
   },
   {
    "duration": 25,
    "start_time": "2024-05-20T22:51:32.763Z"
   },
   {
    "duration": 34,
    "start_time": "2024-05-20T23:10:11.486Z"
   },
   {
    "duration": 20,
    "start_time": "2024-05-20T23:10:30.834Z"
   },
   {
    "duration": 175,
    "start_time": "2024-05-20T23:10:59.782Z"
   },
   {
    "duration": 476,
    "start_time": "2024-05-20T23:11:07.163Z"
   },
   {
    "duration": 792,
    "start_time": "2024-05-20T23:11:07.644Z"
   },
   {
    "duration": 25,
    "start_time": "2024-05-20T23:11:08.439Z"
   },
   {
    "duration": 181,
    "start_time": "2024-05-20T23:11:08.468Z"
   },
   {
    "duration": 32,
    "start_time": "2024-05-20T23:11:08.652Z"
   },
   {
    "duration": 41,
    "start_time": "2024-05-20T23:11:08.687Z"
   },
   {
    "duration": 32,
    "start_time": "2024-05-20T23:27:09.680Z"
   },
   {
    "duration": 351,
    "start_time": "2024-05-20T23:27:10.296Z"
   },
   {
    "duration": 18,
    "start_time": "2024-05-20T23:27:10.998Z"
   },
   {
    "duration": 4,
    "start_time": "2024-05-20T23:27:17.588Z"
   },
   {
    "duration": 19,
    "start_time": "2024-05-20T23:27:18.398Z"
   },
   {
    "duration": 442,
    "start_time": "2024-05-20T23:27:42.096Z"
   },
   {
    "duration": 764,
    "start_time": "2024-05-20T23:27:42.543Z"
   },
   {
    "duration": 31,
    "start_time": "2024-05-20T23:27:43.309Z"
   },
   {
    "duration": 171,
    "start_time": "2024-05-20T23:27:43.343Z"
   },
   {
    "duration": 38,
    "start_time": "2024-05-20T23:27:43.518Z"
   },
   {
    "duration": 5,
    "start_time": "2024-05-20T23:27:43.560Z"
   },
   {
    "duration": 21,
    "start_time": "2024-05-20T23:27:43.568Z"
   },
   {
    "duration": 352,
    "start_time": "2024-05-20T23:33:05.325Z"
   },
   {
    "duration": 272,
    "start_time": "2024-05-20T23:33:16.651Z"
   },
   {
    "duration": 1417,
    "start_time": "2024-05-20T23:33:34.524Z"
   },
   {
    "duration": 23,
    "start_time": "2024-05-20T23:33:59.929Z"
   },
   {
    "duration": 146,
    "start_time": "2024-05-20T23:34:04.643Z"
   },
   {
    "duration": 1511,
    "start_time": "2024-05-20T23:35:06.815Z"
   },
   {
    "duration": 106,
    "start_time": "2024-05-20T23:35:08.810Z"
   },
   {
    "duration": 37,
    "start_time": "2024-05-20T23:59:05.472Z"
   },
   {
    "duration": 43,
    "start_time": "2024-05-21T00:21:13.775Z"
   },
   {
    "duration": 20,
    "start_time": "2024-05-21T00:21:21.870Z"
   },
   {
    "duration": 310,
    "start_time": "2024-05-21T00:21:50.946Z"
   },
   {
    "duration": 363,
    "start_time": "2024-05-21T00:22:17.908Z"
   },
   {
    "duration": 618,
    "start_time": "2024-05-21T00:24:06.675Z"
   },
   {
    "duration": 518,
    "start_time": "2024-05-21T00:26:22.295Z"
   },
   {
    "duration": 770,
    "start_time": "2024-05-21T00:26:22.817Z"
   },
   {
    "duration": 36,
    "start_time": "2024-05-21T00:26:23.590Z"
   },
   {
    "duration": 172,
    "start_time": "2024-05-21T00:26:23.630Z"
   },
   {
    "duration": 41,
    "start_time": "2024-05-21T00:26:23.806Z"
   },
   {
    "duration": 5,
    "start_time": "2024-05-21T00:26:23.850Z"
   },
   {
    "duration": 2800,
    "start_time": "2024-05-21T00:26:23.858Z"
   },
   {
    "duration": 330,
    "start_time": "2024-05-21T00:26:26.661Z"
   },
   {
    "duration": 338,
    "start_time": "2024-05-21T00:26:26.994Z"
   },
   {
    "duration": 673,
    "start_time": "2024-05-21T00:26:27.337Z"
   },
   {
    "duration": 285,
    "start_time": "2024-05-21T00:26:37.312Z"
   },
   {
    "duration": 451,
    "start_time": "2024-05-21T00:26:44.654Z"
   },
   {
    "duration": 751,
    "start_time": "2024-05-21T00:26:45.108Z"
   },
   {
    "duration": 26,
    "start_time": "2024-05-21T00:26:45.862Z"
   },
   {
    "duration": 166,
    "start_time": "2024-05-21T00:26:45.891Z"
   },
   {
    "duration": 30,
    "start_time": "2024-05-21T00:26:46.061Z"
   },
   {
    "duration": 5,
    "start_time": "2024-05-21T00:26:46.095Z"
   },
   {
    "duration": 2871,
    "start_time": "2024-05-21T00:26:46.127Z"
   },
   {
    "duration": 313,
    "start_time": "2024-05-21T00:26:49.002Z"
   },
   {
    "duration": 332,
    "start_time": "2024-05-21T00:26:49.326Z"
   },
   {
    "duration": 660,
    "start_time": "2024-05-21T00:26:49.662Z"
   },
   {
    "duration": 459,
    "start_time": "2024-05-23T19:02:20.837Z"
   },
   {
    "duration": 826,
    "start_time": "2024-05-23T19:02:21.301Z"
   },
   {
    "duration": 27,
    "start_time": "2024-05-23T19:02:22.132Z"
   },
   {
    "duration": 176,
    "start_time": "2024-05-23T19:02:22.165Z"
   },
   {
    "duration": 31,
    "start_time": "2024-05-23T19:02:22.344Z"
   },
   {
    "duration": 4,
    "start_time": "2024-05-23T19:02:22.378Z"
   },
   {
    "duration": 2963,
    "start_time": "2024-05-23T19:02:22.386Z"
   },
   {
    "duration": 294,
    "start_time": "2024-05-23T19:02:25.352Z"
   },
   {
    "duration": 304,
    "start_time": "2024-05-23T19:02:25.649Z"
   },
   {
    "duration": 655,
    "start_time": "2024-05-23T19:02:25.958Z"
   },
   {
    "duration": 356,
    "start_time": "2024-05-23T19:10:04.866Z"
   },
   {
    "duration": 4,
    "start_time": "2024-05-23T19:10:17.538Z"
   },
   {
    "duration": 29,
    "start_time": "2024-05-23T19:14:36.263Z"
   },
   {
    "duration": 14,
    "start_time": "2024-05-23T19:14:45.178Z"
   },
   {
    "duration": 99,
    "start_time": "2024-05-23T19:15:28.537Z"
   },
   {
    "duration": 106,
    "start_time": "2024-05-23T19:21:28.173Z"
   },
   {
    "duration": 96,
    "start_time": "2024-05-23T19:21:44.814Z"
   },
   {
    "duration": 136,
    "start_time": "2024-05-23T19:24:04.895Z"
   },
   {
    "duration": 109,
    "start_time": "2024-05-23T19:24:07.384Z"
   },
   {
    "duration": 1210,
    "start_time": "2024-05-23T19:24:28.929Z"
   },
   {
    "duration": 1983,
    "start_time": "2024-05-23T19:24:49.176Z"
   },
   {
    "duration": 1161,
    "start_time": "2024-05-23T19:25:34.571Z"
   },
   {
    "duration": 23,
    "start_time": "2024-05-23T19:27:22.447Z"
   },
   {
    "duration": 730,
    "start_time": "2024-05-23T19:28:17.292Z"
   },
   {
    "duration": 1357,
    "start_time": "2024-05-23T19:29:09.945Z"
   },
   {
    "duration": 349,
    "start_time": "2024-05-23T19:29:12.742Z"
   },
   {
    "duration": 7,
    "start_time": "2024-05-23T19:30:54.534Z"
   },
   {
    "duration": 1090,
    "start_time": "2024-05-23T19:43:46.963Z"
   },
   {
    "duration": 5,
    "start_time": "2024-05-23T19:43:48.583Z"
   },
   {
    "duration": 1232,
    "start_time": "2024-05-23T22:05:11.439Z"
   },
   {
    "duration": 807,
    "start_time": "2024-05-23T22:05:12.675Z"
   },
   {
    "duration": 26,
    "start_time": "2024-05-23T22:05:13.485Z"
   },
   {
    "duration": 173,
    "start_time": "2024-05-23T22:05:13.515Z"
   },
   {
    "duration": 51,
    "start_time": "2024-05-23T22:05:13.692Z"
   },
   {
    "duration": 4,
    "start_time": "2024-05-23T22:05:13.746Z"
   },
   {
    "duration": 2840,
    "start_time": "2024-05-23T22:05:13.753Z"
   },
   {
    "duration": 307,
    "start_time": "2024-05-23T22:05:16.596Z"
   },
   {
    "duration": 314,
    "start_time": "2024-05-23T22:05:16.907Z"
   },
   {
    "duration": 603,
    "start_time": "2024-05-23T22:05:17.230Z"
   },
   {
    "duration": 32,
    "start_time": "2024-05-23T22:05:17.836Z"
   },
   {
    "duration": 16,
    "start_time": "2024-05-23T22:05:17.871Z"
   },
   {
    "duration": 132,
    "start_time": "2024-05-23T22:05:17.890Z"
   },
   {
    "duration": 119,
    "start_time": "2024-05-23T22:05:18.033Z"
   },
   {
    "duration": 104,
    "start_time": "2024-05-23T22:05:18.155Z"
   },
   {
    "duration": 1190,
    "start_time": "2024-05-23T22:05:18.262Z"
   },
   {
    "duration": 1337,
    "start_time": "2024-05-23T22:05:19.455Z"
   },
   {
    "duration": 364,
    "start_time": "2024-05-23T22:05:20.796Z"
   },
   {
    "duration": 4,
    "start_time": "2024-05-23T22:05:21.164Z"
   },
   {
    "duration": 238,
    "start_time": "2024-05-23T22:05:21.171Z"
   },
   {
    "duration": 44,
    "start_time": "2024-05-23T22:39:31.681Z"
   },
   {
    "duration": 326739,
    "start_time": "2024-05-23T22:39:46.918Z"
   },
   {
    "duration": 4,
    "start_time": "2024-05-23T23:09:31.560Z"
   },
   {
    "duration": 14,
    "start_time": "2024-05-23T23:09:54.588Z"
   },
   {
    "duration": 401,
    "start_time": "2024-05-23T23:09:59.618Z"
   },
   {
    "duration": 1179,
    "start_time": "2024-05-23T23:44:23.098Z"
   },
   {
    "duration": 726,
    "start_time": "2024-05-23T23:44:24.281Z"
   },
   {
    "duration": 32,
    "start_time": "2024-05-23T23:44:25.009Z"
   },
   {
    "duration": 152,
    "start_time": "2024-05-23T23:44:25.045Z"
   },
   {
    "duration": 54,
    "start_time": "2024-05-23T23:44:25.200Z"
   },
   {
    "duration": 5,
    "start_time": "2024-05-23T23:44:25.256Z"
   },
   {
    "duration": 2859,
    "start_time": "2024-05-23T23:44:25.264Z"
   },
   {
    "duration": 295,
    "start_time": "2024-05-23T23:44:28.130Z"
   },
   {
    "duration": 314,
    "start_time": "2024-05-23T23:44:28.432Z"
   },
   {
    "duration": 617,
    "start_time": "2024-05-23T23:44:28.752Z"
   },
   {
    "duration": 33,
    "start_time": "2024-05-23T23:44:29.372Z"
   },
   {
    "duration": 36,
    "start_time": "2024-05-23T23:44:29.408Z"
   },
   {
    "duration": 107,
    "start_time": "2024-05-23T23:44:29.447Z"
   },
   {
    "duration": 127,
    "start_time": "2024-05-23T23:44:29.557Z"
   },
   {
    "duration": 109,
    "start_time": "2024-05-23T23:44:29.687Z"
   },
   {
    "duration": 1179,
    "start_time": "2024-05-23T23:44:29.800Z"
   },
   {
    "duration": 1352,
    "start_time": "2024-05-23T23:44:30.982Z"
   },
   {
    "duration": 370,
    "start_time": "2024-05-23T23:44:32.338Z"
   },
   {
    "duration": 5,
    "start_time": "2024-05-23T23:44:32.711Z"
   },
   {
    "duration": 218,
    "start_time": "2024-05-23T23:44:32.731Z"
   },
   {
    "duration": 80217,
    "start_time": "2024-05-23T23:44:32.952Z"
   },
   {
    "duration": 27502,
    "start_time": "2024-05-23T23:45:53.172Z"
   },
   {
    "duration": 1219,
    "start_time": "2024-05-23T23:54:02.234Z"
   },
   {
    "duration": 713,
    "start_time": "2024-05-23T23:54:03.457Z"
   },
   {
    "duration": 24,
    "start_time": "2024-05-23T23:54:04.172Z"
   },
   {
    "duration": 190,
    "start_time": "2024-05-23T23:54:04.201Z"
   },
   {
    "duration": 45,
    "start_time": "2024-05-23T23:54:04.397Z"
   },
   {
    "duration": 5,
    "start_time": "2024-05-23T23:54:04.444Z"
   },
   {
    "duration": 2878,
    "start_time": "2024-05-23T23:54:04.452Z"
   },
   {
    "duration": 316,
    "start_time": "2024-05-23T23:54:07.332Z"
   },
   {
    "duration": 313,
    "start_time": "2024-05-23T23:54:07.651Z"
   },
   {
    "duration": 623,
    "start_time": "2024-05-23T23:54:07.967Z"
   },
   {
    "duration": 46,
    "start_time": "2024-05-23T23:54:08.593Z"
   },
   {
    "duration": 16,
    "start_time": "2024-05-23T23:54:08.642Z"
   },
   {
    "duration": 127,
    "start_time": "2024-05-23T23:54:08.661Z"
   },
   {
    "duration": 125,
    "start_time": "2024-05-23T23:54:08.794Z"
   },
   {
    "duration": 109,
    "start_time": "2024-05-23T23:54:08.923Z"
   },
   {
    "duration": 1203,
    "start_time": "2024-05-23T23:54:09.035Z"
   },
   {
    "duration": 1359,
    "start_time": "2024-05-23T23:54:10.241Z"
   },
   {
    "duration": 379,
    "start_time": "2024-05-23T23:54:11.603Z"
   },
   {
    "duration": 8,
    "start_time": "2024-05-23T23:54:11.985Z"
   },
   {
    "duration": 253,
    "start_time": "2024-05-23T23:54:11.999Z"
   },
   {
    "duration": 80596,
    "start_time": "2024-05-23T23:54:12.254Z"
   },
   {
    "duration": 1261,
    "start_time": "2024-05-24T17:11:02.954Z"
   },
   {
    "duration": 904,
    "start_time": "2024-05-24T17:11:04.219Z"
   },
   {
    "duration": 30,
    "start_time": "2024-05-24T17:11:05.126Z"
   },
   {
    "duration": 172,
    "start_time": "2024-05-24T17:11:05.160Z"
   },
   {
    "duration": 33,
    "start_time": "2024-05-24T17:11:05.336Z"
   },
   {
    "duration": 4,
    "start_time": "2024-05-24T17:11:05.374Z"
   },
   {
    "duration": 3142,
    "start_time": "2024-05-24T17:11:05.381Z"
   },
   {
    "duration": 308,
    "start_time": "2024-05-24T17:11:08.526Z"
   },
   {
    "duration": 392,
    "start_time": "2024-05-24T17:11:08.838Z"
   },
   {
    "duration": 627,
    "start_time": "2024-05-24T17:11:09.237Z"
   },
   {
    "duration": 34,
    "start_time": "2024-05-24T17:11:09.870Z"
   },
   {
    "duration": 33,
    "start_time": "2024-05-24T17:11:09.907Z"
   },
   {
    "duration": 108,
    "start_time": "2024-05-24T17:11:09.943Z"
   },
   {
    "duration": 193,
    "start_time": "2024-05-24T17:11:10.055Z"
   },
   {
    "duration": 110,
    "start_time": "2024-05-24T17:11:10.254Z"
   },
   {
    "duration": 1318,
    "start_time": "2024-05-24T17:11:42.616Z"
   },
   {
    "duration": 848,
    "start_time": "2024-05-24T17:11:43.939Z"
   },
   {
    "duration": 26,
    "start_time": "2024-05-24T17:11:44.793Z"
   },
   {
    "duration": 158,
    "start_time": "2024-05-24T17:11:44.830Z"
   },
   {
    "duration": 47,
    "start_time": "2024-05-24T17:11:44.994Z"
   },
   {
    "duration": 4,
    "start_time": "2024-05-24T17:11:45.044Z"
   },
   {
    "duration": 3014,
    "start_time": "2024-05-24T17:11:45.051Z"
   },
   {
    "duration": 316,
    "start_time": "2024-05-24T17:11:48.069Z"
   },
   {
    "duration": 359,
    "start_time": "2024-05-24T17:11:48.389Z"
   },
   {
    "duration": 668,
    "start_time": "2024-05-24T17:11:48.751Z"
   },
   {
    "duration": 45,
    "start_time": "2024-05-24T17:11:49.430Z"
   },
   {
    "duration": 21,
    "start_time": "2024-05-24T17:11:49.484Z"
   },
   {
    "duration": 113,
    "start_time": "2024-05-24T17:11:49.508Z"
   },
   {
    "duration": 145,
    "start_time": "2024-05-24T17:11:49.635Z"
   },
   {
    "duration": 110,
    "start_time": "2024-05-24T17:11:49.785Z"
   },
   {
    "duration": 353,
    "start_time": "2024-05-24T17:12:01.954Z"
   },
   {
    "duration": 1474,
    "start_time": "2024-05-24T17:12:10.113Z"
   },
   {
    "duration": 141,
    "start_time": "2024-05-24T17:12:24.723Z"
   },
   {
    "duration": 1382,
    "start_time": "2024-05-24T17:12:32.132Z"
   },
   {
    "duration": 854,
    "start_time": "2024-05-24T17:12:33.522Z"
   },
   {
    "duration": 31,
    "start_time": "2024-05-24T17:12:34.379Z"
   },
   {
    "duration": 201,
    "start_time": "2024-05-24T17:12:34.430Z"
   },
   {
    "duration": 39,
    "start_time": "2024-05-24T17:12:34.637Z"
   },
   {
    "duration": 5,
    "start_time": "2024-05-24T17:12:34.679Z"
   },
   {
    "duration": 3057,
    "start_time": "2024-05-24T17:12:34.687Z"
   },
   {
    "duration": 322,
    "start_time": "2024-05-24T17:12:37.747Z"
   },
   {
    "duration": 357,
    "start_time": "2024-05-24T17:12:38.073Z"
   },
   {
    "duration": 683,
    "start_time": "2024-05-24T17:12:38.436Z"
   },
   {
    "duration": 34,
    "start_time": "2024-05-24T17:12:39.122Z"
   },
   {
    "duration": 17,
    "start_time": "2024-05-24T17:12:39.159Z"
   },
   {
    "duration": 152,
    "start_time": "2024-05-24T17:12:39.179Z"
   },
   {
    "duration": 144,
    "start_time": "2024-05-24T17:12:39.334Z"
   },
   {
    "duration": 131,
    "start_time": "2024-05-24T17:12:39.481Z"
   },
   {
    "duration": 1231,
    "start_time": "2024-05-24T17:12:53.103Z"
   },
   {
    "duration": 828,
    "start_time": "2024-05-24T17:12:54.338Z"
   },
   {
    "duration": 30,
    "start_time": "2024-05-24T17:12:55.904Z"
   },
   {
    "duration": 180,
    "start_time": "2024-05-24T17:12:57.181Z"
   },
   {
    "duration": 31,
    "start_time": "2024-05-24T17:12:59.502Z"
   },
   {
    "duration": 7,
    "start_time": "2024-05-24T17:13:00.454Z"
   },
   {
    "duration": 3086,
    "start_time": "2024-05-24T17:13:01.275Z"
   },
   {
    "duration": 342,
    "start_time": "2024-05-24T17:13:05.254Z"
   },
   {
    "duration": 309,
    "start_time": "2024-05-24T17:13:06.658Z"
   },
   {
    "duration": 655,
    "start_time": "2024-05-24T17:13:08.203Z"
   },
   {
    "duration": 34,
    "start_time": "2024-05-24T17:13:09.756Z"
   },
   {
    "duration": 18,
    "start_time": "2024-05-24T17:13:11.990Z"
   },
   {
    "duration": 117,
    "start_time": "2024-05-24T17:13:13.304Z"
   },
   {
    "duration": 110,
    "start_time": "2024-05-24T17:13:14.263Z"
   },
   {
    "duration": 159,
    "start_time": "2024-05-24T17:13:15.980Z"
   },
   {
    "duration": 1287,
    "start_time": "2024-05-24T17:25:39.950Z"
   },
   {
    "duration": 887,
    "start_time": "2024-05-24T17:25:41.242Z"
   },
   {
    "duration": 31,
    "start_time": "2024-05-24T17:25:42.135Z"
   },
   {
    "duration": 198,
    "start_time": "2024-05-24T17:25:42.171Z"
   },
   {
    "duration": 33,
    "start_time": "2024-05-24T17:25:42.373Z"
   },
   {
    "duration": 22,
    "start_time": "2024-05-24T17:25:42.409Z"
   },
   {
    "duration": 3021,
    "start_time": "2024-05-24T17:25:42.434Z"
   },
   {
    "duration": 340,
    "start_time": "2024-05-24T17:25:45.458Z"
   },
   {
    "duration": 394,
    "start_time": "2024-05-24T17:25:45.802Z"
   },
   {
    "duration": 680,
    "start_time": "2024-05-24T17:25:46.202Z"
   },
   {
    "duration": 45,
    "start_time": "2024-05-24T17:25:46.886Z"
   },
   {
    "duration": 16,
    "start_time": "2024-05-24T17:25:46.933Z"
   },
   {
    "duration": 115,
    "start_time": "2024-05-24T17:25:46.954Z"
   },
   {
    "duration": 124,
    "start_time": "2024-05-24T17:25:47.072Z"
   },
   {
    "duration": 141,
    "start_time": "2024-05-24T17:25:47.199Z"
   },
   {
    "duration": 363,
    "start_time": "2024-05-24T17:26:21.458Z"
   },
   {
    "duration": 1258,
    "start_time": "2024-05-24T17:26:30.452Z"
   },
   {
    "duration": 494,
    "start_time": "2024-05-24T17:26:31.713Z"
   },
   {
    "duration": 0,
    "start_time": "2024-05-24T17:26:32.212Z"
   },
   {
    "duration": 0,
    "start_time": "2024-05-24T17:26:32.214Z"
   },
   {
    "duration": 0,
    "start_time": "2024-05-24T17:26:32.217Z"
   },
   {
    "duration": 0,
    "start_time": "2024-05-24T17:26:32.233Z"
   },
   {
    "duration": 0,
    "start_time": "2024-05-24T17:26:32.237Z"
   },
   {
    "duration": 0,
    "start_time": "2024-05-24T17:26:32.240Z"
   },
   {
    "duration": 1,
    "start_time": "2024-05-24T17:26:32.243Z"
   },
   {
    "duration": 0,
    "start_time": "2024-05-24T17:26:32.246Z"
   },
   {
    "duration": 0,
    "start_time": "2024-05-24T17:26:32.248Z"
   },
   {
    "duration": 1,
    "start_time": "2024-05-24T17:26:32.250Z"
   },
   {
    "duration": 0,
    "start_time": "2024-05-24T17:26:32.252Z"
   },
   {
    "duration": 0,
    "start_time": "2024-05-24T17:26:32.254Z"
   },
   {
    "duration": 0,
    "start_time": "2024-05-24T17:26:32.257Z"
   },
   {
    "duration": 0,
    "start_time": "2024-05-24T17:26:32.259Z"
   },
   {
    "duration": 0,
    "start_time": "2024-05-24T17:26:32.263Z"
   },
   {
    "duration": 0,
    "start_time": "2024-05-24T17:26:32.266Z"
   },
   {
    "duration": 0,
    "start_time": "2024-05-24T17:26:32.267Z"
   },
   {
    "duration": 0,
    "start_time": "2024-05-24T17:26:32.270Z"
   },
   {
    "duration": 0,
    "start_time": "2024-05-24T17:26:32.271Z"
   },
   {
    "duration": 0,
    "start_time": "2024-05-24T17:26:32.274Z"
   },
   {
    "duration": 1,
    "start_time": "2024-05-24T17:26:32.276Z"
   },
   {
    "duration": 4,
    "start_time": "2024-05-24T17:26:54.755Z"
   },
   {
    "duration": 830,
    "start_time": "2024-05-24T17:26:56.292Z"
   },
   {
    "duration": 26,
    "start_time": "2024-05-24T17:26:58.819Z"
   },
   {
    "duration": 147,
    "start_time": "2024-05-24T17:26:59.636Z"
   },
   {
    "duration": 34,
    "start_time": "2024-05-24T17:27:01.200Z"
   },
   {
    "duration": 5,
    "start_time": "2024-05-24T17:27:02.007Z"
   },
   {
    "duration": 3593,
    "start_time": "2024-05-24T17:27:02.745Z"
   },
   {
    "duration": 338,
    "start_time": "2024-05-24T17:27:06.342Z"
   },
   {
    "duration": 328,
    "start_time": "2024-05-24T17:27:06.684Z"
   },
   {
    "duration": 631,
    "start_time": "2024-05-24T17:27:08.554Z"
   },
   {
    "duration": 41,
    "start_time": "2024-05-24T17:27:10.169Z"
   },
   {
    "duration": 20,
    "start_time": "2024-05-24T17:27:11.568Z"
   },
   {
    "duration": 158,
    "start_time": "2024-05-24T17:27:12.684Z"
   },
   {
    "duration": 122,
    "start_time": "2024-05-24T17:27:13.723Z"
   },
   {
    "duration": 146,
    "start_time": "2024-05-24T17:27:15.302Z"
   }
  ],
  "kernelspec": {
   "display_name": "Python 3 (ipykernel)",
   "language": "python",
   "name": "python3"
  },
  "language_info": {
   "codemirror_mode": {
    "name": "ipython",
    "version": 3
   },
   "file_extension": ".py",
   "mimetype": "text/x-python",
   "name": "python",
   "nbconvert_exporter": "python",
   "pygments_lexer": "ipython3",
   "version": "3.11.5"
  },
  "toc": {
   "base_numbering": 1,
   "nav_menu": {},
   "number_sections": true,
   "sideBar": true,
   "skip_h1_title": true,
   "title_cell": "Table of Contents",
   "title_sidebar": "Contents",
   "toc_cell": false,
   "toc_position": {},
   "toc_section_display": true,
   "toc_window_display": false
  }
 },
 "nbformat": 4,
 "nbformat_minor": 4
}
